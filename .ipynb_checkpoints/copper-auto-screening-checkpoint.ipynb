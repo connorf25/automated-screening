{
 "cells": [
  {
   "cell_type": "markdown",
   "metadata": {},
   "source": [
    "# Parse XML"
   ]
  },
  {
   "cell_type": "code",
   "execution_count": 1,
   "metadata": {
    "id": "Kcl0YURr1yHO"
   },
   "outputs": [],
   "source": [
    "# Imports\n",
    "import pandas as pd\n",
    "\n",
    "import matplotlib.pyplot as plt\n",
    "\n",
    "import numpy as np\n",
    "\n",
    "from xml.dom import minidom"
   ]
  },
  {
   "cell_type": "code",
   "execution_count": 2,
   "metadata": {},
   "outputs": [],
   "source": [
    "#Function to parse xml\n",
    "def parseXML(filename, isInclude):\n",
    "    abstracts = []\n",
    "    tags = []\n",
    "    xmldoc = minidom.parse(filename)\n",
    "    itemlist = xmldoc.getElementsByTagName('abstract')\n",
    "    for node in xmldoc.getElementsByTagName('abstract'):\n",
    "        abstract = node.getElementsByTagName('style')[0].firstChild.nodeValue\n",
    "        abstracts.append(abstract)\n",
    "        tags.append(isInclude)  \n",
    "    return abstracts, tags"
   ]
  },
  {
   "cell_type": "code",
   "execution_count": 13,
   "metadata": {},
   "outputs": [
    {
     "data": {
      "text/html": [
       "<div>\n",
       "<style scoped>\n",
       "    .dataframe tbody tr th:only-of-type {\n",
       "        vertical-align: middle;\n",
       "    }\n",
       "\n",
       "    .dataframe tbody tr th {\n",
       "        vertical-align: top;\n",
       "    }\n",
       "\n",
       "    .dataframe thead th {\n",
       "        text-align: right;\n",
       "    }\n",
       "</style>\n",
       "<table border=\"1\" class=\"dataframe\">\n",
       "  <thead>\n",
       "    <tr style=\"text-align: right;\">\n",
       "      <th></th>\n",
       "      <th>code</th>\n",
       "      <th>abstract</th>\n",
       "    </tr>\n",
       "  </thead>\n",
       "  <tbody>\n",
       "    <tr>\n",
       "      <th>0</th>\n",
       "      <td>1</td>\n",
       "      <td>OBJECTIVE To determine whether antimicrobial-i...</td>\n",
       "    </tr>\n",
       "    <tr>\n",
       "      <th>1</th>\n",
       "      <td>1</td>\n",
       "      <td>Copper surfaces and hospital acquired infectio...</td>\n",
       "    </tr>\n",
       "    <tr>\n",
       "      <th>2</th>\n",
       "      <td>0</td>\n",
       "      <td>OBJECTIVE: Determine the rate and outcome of n...</td>\n",
       "    </tr>\n",
       "    <tr>\n",
       "      <th>3</th>\n",
       "      <td>0</td>\n",
       "      <td>Human enteric viruses are associated with seve...</td>\n",
       "    </tr>\n",
       "    <tr>\n",
       "      <th>4</th>\n",
       "      <td>0</td>\n",
       "      <td>Vancomycin-resistant enterococcus (VRE) is now...</td>\n",
       "    </tr>\n",
       "  </tbody>\n",
       "</table>\n",
       "</div>"
      ],
      "text/plain": [
       "   code                                           abstract\n",
       "0     1  OBJECTIVE To determine whether antimicrobial-i...\n",
       "1     1  Copper surfaces and hospital acquired infectio...\n",
       "2     0  OBJECTIVE: Determine the rate and outcome of n...\n",
       "3     0  Human enteric viruses are associated with seve...\n",
       "4     0  Vancomycin-resistant enterococcus (VRE) is now..."
      ]
     },
     "execution_count": 13,
     "metadata": {},
     "output_type": "execute_result"
    }
   ],
   "source": [
    "abstractsInclude, tagsInclude = parseXML('copper/copperTestInclude.xml', 1)\n",
    "abstractsExclude, tagsExclude = parseXML('copper/copperTestExclude.xml', 0)\n",
    "df = pd.DataFrame(list(zip(tagsInclude + tagsExclude, abstractsInclude + abstractsExclude)), \n",
    "               columns =['code', 'abstract'])\n",
    "df.head()"
   ]
  },
  {
   "cell_type": "markdown",
   "metadata": {},
   "source": [
    "# Load Sci-BERT Model"
   ]
  },
  {
   "cell_type": "code",
   "execution_count": null,
   "metadata": {},
   "outputs": [],
   "source": [
    "from transformers import BertModel, BertTokenizer\n",
    "import torch\n",
    "import numpy as np\n",
    "\n",
    "scibert_model = BertModel.from_pretrained(\"allenai/scibert_scivocab_uncased\",\n",
    "                                  output_hidden_states=True)\n",
    "scibert_tokenizer = BertTokenizer.from_pretrained(\"allenai/scibert_scivocab_uncased\")\n",
    "\n",
    "print('scibert_tokenizer is type:', type(scibert_tokenizer))\n",
    "print('    scibert_model is type:', type(scibert_model))"
   ]
  },
  {
   "cell_type": "markdown",
   "metadata": {},
   "source": [
    "# Calculate Embeddings using Sci-BERT"
   ]
  },
  {
   "cell_type": "code",
   "execution_count": null,
   "metadata": {},
   "outputs": [],
   "source": [
    "def get_embedding(model, tokenizer, text):\n",
    "\n",
    "    # Encode with special tokens ([CLS] and [SEP], returning pytorch tensors\n",
    "    encoded_dict = tokenizer.encode_plus(\n",
    "                        text,\n",
    "                        truncation=True,\n",
    "                        max_length=512,\n",
    "                        add_special_tokens = True,\n",
    "                        return_tensors = 'pt'\n",
    "                )\n",
    "\n",
    "    input_ids = encoded_dict['input_ids']\n",
    "    \n",
    "    # Set model to evaluation mode\n",
    "    model.eval()\n",
    "    \n",
    "    # Run through BERT\n",
    "    with torch.no_grad():\n",
    "\n",
    "        outputs = model(input_ids)\n",
    "\n",
    "        # Extract hidden states\n",
    "        hidden_states = outputs[2]\n",
    "\n",
    "    # Select the embeddings\n",
    "    token_vecs = hidden_states[-2][0]\n",
    "\n",
    "    # Calculate average of token vectors\n",
    "    sentence_embedding = torch.mean(token_vecs, dim=0)\n",
    "\n",
    "    # Convert to np array\n",
    "    sentence_embedding = sentence_embedding.detach().numpy()\n",
    "\n",
    "    return sentence_embedding"
   ]
  },
  {
   "cell_type": "code",
   "execution_count": null,
   "metadata": {},
   "outputs": [],
   "source": [
    "from IPython.display import clear_output\n",
    "import timeit\n",
    "\n",
    "embeddings = []\n",
    "length = len(df['abstract'].tolist())\n",
    "index = 0\n",
    "\n",
    "start = timeit.default_timer()\n",
    "for sentence in df['abstract'].tolist():\n",
    "    clear_output(wait=True)\n",
    "    index += 1\n",
    "    sen_emb = get_embedding(scibert_model, scibert_tokenizer, sentence)\n",
    "    embeddings.append(sen_emb)\n",
    "\n",
    "    stop = timeit.default_timer()\n",
    "\n",
    "    if (index/length*100) < 1:\n",
    "        expected_time = \"Calculating...\"\n",
    "\n",
    "    else:\n",
    "        time_perc = timeit.default_timer()\n",
    "        expected_time = np.round( (time_perc-start) /(index/length) /60,2)\n",
    "\n",
    "    print(index, length)\n",
    "    print(expected_time)\n",
    "\n",
    "    \n",
    "# Append to dataframe\n",
    "df['scibert'] = embeddings\n",
    "# Save dataframe to prevent recalculation\n",
    "df.to_pickle(\"./copper/copperTest.pkl\")\n",
    "df.head()"
   ]
  },
  {
   "cell_type": "markdown",
   "metadata": {},
   "source": [
    "# Train Model"
   ]
  },
  {
   "cell_type": "code",
   "execution_count": 4,
   "metadata": {},
   "outputs": [],
   "source": [
    "from sklearn.metrics import confusion_matrix\n",
    "from sklearn.linear_model import LogisticRegression\n",
    "import seaborn as sns\n",
    "\n",
    "def plotConfMatrix(actual, pred, labels):\n",
    "    conf_matrix = confusion_matrix(actual, pred)\n",
    "    labels = [\"Exclude\", \"Include\"]\n",
    "    df_cm = pd.DataFrame(conf_matrix, columns=labels, index=labels)\n",
    "    df_cm.index.name = 'Actual'\n",
    "    df_cm.columns.name = 'Predicted'\n",
    "    plt.figure(figsize = (4,2))\n",
    "    sns.set(font_scale=1.2)#for label size\n",
    "    sns.heatmap(df_cm, fmt='d', cmap=\"Blues\", annot=True, annot_kws={\"size\": 12})# font size\n",
    "    plt.show()"
   ]
  },
  {
   "cell_type": "code",
   "execution_count": 6,
   "metadata": {},
   "outputs": [
    {
     "data": {
      "image/png": "[encoded data removed]",
      "text/plain": [
       "<Figure size 288x144 with 2 Axes>"
      ]
     },
     "metadata": {},
     "output_type": "display_data"
    }
   ],
   "source": [
    "df = pd.read_pickle(\"./copper/copperTrain.pkl\")\n",
    "df = df.sample(frac=1)\n",
    "df.head()\n",
    "\n",
    "train_data = df['scibert'].tolist()\n",
    "train_labels = df['code'].tolist()\n",
    "\n",
    "model = LogisticRegression(C=0.05, class_weight='balanced', max_iter=1000)\n",
    "\n",
    "model.fit(train_data, train_labels)\n",
    "pred = model.predict(train_data)\n",
    "\n",
    "labels = [\"Exclude\", \"Include\"]\n",
    "plotConfMatrix(train_labels, pred, labels)"
   ]
  },
  {
   "cell_type": "markdown",
   "metadata": {},
   "source": [
    "# Test Model"
   ]
  },
  {
   "cell_type": "code",
   "execution_count": 7,
   "metadata": {},
   "outputs": [
    {
     "data": {
      "image/png": "[encoded data removed]",
      "text/plain": [
       "<Figure size 288x144 with 2 Axes>"
      ]
     },
     "metadata": {},
     "output_type": "display_data"
    }
   ],
   "source": [
    "df = pd.read_pickle(\"./copper/copperTest.pkl\")\n",
    "df = df.sample(frac=1)\n",
    "df.head()\n",
    "\n",
    "test_data = df['scibert'].tolist()\n",
    "test_labels = df['code'].tolist()\n",
    "\n",
    "pred = model.predict(test_data)\n",
    "\n",
    "labels = [\"Exclude\", \"Include\"]\n",
    "plotConfMatrix(test_labels, pred, labels)"
   ]
  },
  {
   "cell_type": "markdown",
   "metadata": {},
   "source": [
    "# Random Test/Train Split"
   ]
  },
  {
   "cell_type": "code",
   "execution_count": 9,
   "metadata": {},
   "outputs": [],
   "source": [
    "from sklearn.model_selection import train_test_split\n",
    "\n",
    "df = pd.concat([pd.read_pickle(\"./copper/copperTrain.pkl\"), pd.read_pickle(\"./copper/copperTest.pkl\")])\n",
    "df = df.sample(frac=1)\n",
    "\n",
    "train, test = train_test_split(df, test_size=0.2)"
   ]
  },
  {
   "cell_type": "code",
   "execution_count": 10,
   "metadata": {},
   "outputs": [
    {
     "data": {
      "image/png": "[encoded data removed]",
      "text/plain": [
       "<Figure size 288x144 with 2 Axes>"
      ]
     },
     "metadata": {},
     "output_type": "display_data"
    }
   ],
   "source": [
    "train_data = train['scibert'].tolist()\n",
    "train_labels = train['code'].tolist()\n",
    "\n",
    "model = LogisticRegression(C=0.05, class_weight='balanced', max_iter=1000)\n",
    "\n",
    "model.fit(train_data, train_labels)\n",
    "pred = model.predict(train_data)\n",
    "\n",
    "labels = [\"Exclude\", \"Include\"]\n",
    "plotConfMatrix(train_labels, pred, labels)"
   ]
  },
  {
   "cell_type": "code",
   "execution_count": 11,
   "metadata": {},
   "outputs": [
    {
     "data": {
      "image/png": "[encoded data removed]",
      "text/plain": [
       "<Figure size 288x144 with 2 Axes>"
      ]
     },
     "metadata": {},
     "output_type": "display_data"
    }
   ],
   "source": [
    "test_data = test['scibert'].tolist()\n",
    "test_labels = test['code'].tolist()\n",
    "\n",
    "pred = model.predict(test_data)\n",
    "\n",
    "labels = [\"Exclude\", \"Include\"]\n",
    "plotConfMatrix(test_labels, pred, labels)"
   ]
  },
  {
   "cell_type": "code",
   "execution_count": 12,
   "metadata": {},
   "outputs": [
    {
     "data": {
      "image/png": "[encoded data removed]",
      "text/plain": [
       "<Figure size 288x144 with 2 Axes>"
      ]
     },
     "metadata": {},
     "output_type": "display_data"
    },
    {
     "data": {
      "image/png": "[encoded data removed]",
      "text/plain": [
       "<Figure size 288x144 with 2 Axes>"
      ]
     },
     "metadata": {},
     "output_type": "display_data"
    }
   ],
   "source": [
    "train, test = train_test_split(df, test_size=0.5)\n",
    "\n",
    "train_data = train['scibert'].tolist()\n",
    "train_labels = train['code'].tolist()\n",
    "\n",
    "model = LogisticRegression(C=0.05, class_weight='balanced', max_iter=1000)\n",
    "\n",
    "model.fit(train_data, train_labels)\n",
    "pred = model.predict(train_data)\n",
    "\n",
    "labels = [\"Exclude\", \"Include\"]\n",
    "plotConfMatrix(train_labels, pred, labels)\n",
    "\n",
    "test_data = test['scibert'].tolist()\n",
    "test_labels = test['code'].tolist()\n",
    "\n",
    "pred = model.predict(test_data)\n",
    "\n",
    "labels = [\"Exclude\", \"Include\"]\n",
    "plotConfMatrix(test_labels, pred, labels)"
   ]
  }
 ],
 "metadata": {
  "colab": {
   "collapsed_sections": [],
   "name": "Pubmed_20k_Pandas.ipynb",
   "provenance": [],
   "toc_visible": true
  },
  "kernelspec": {
   "display_name": "Python 3",
   "language": "python",
   "name": "python3"
  },
  "language_info": {
   "codemirror_mode": {
    "name": "ipython",
    "version": 3
   },
   "file_extension": ".py",
   "mimetype": "text/x-python",
   "name": "python",
   "nbconvert_exporter": "python",
   "pygments_lexer": "ipython3",
   "version": "3.6.5"
  }
 },
 "nbformat": 4,
 "nbformat_minor": 1
}
