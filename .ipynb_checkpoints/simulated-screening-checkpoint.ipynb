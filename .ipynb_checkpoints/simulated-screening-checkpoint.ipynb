{
 "cells": [
  {
   "cell_type": "code",
   "execution_count": 2,
   "id": "0add2cd7-5a3d-45f6-8918-94b1775232b9",
   "metadata": {},
   "outputs": [],
   "source": [
    "import pandas as pd\n",
    "import matplotlib.pyplot as plt\n",
    "import seaborn as sns\n",
    "\n",
    "from sklearn.metrics import confusion_matrix\n",
    "from sklearn.linear_model import LogisticRegression\n",
    "from sklearn.model_selection import train_test_split"
   ]
  },
  {
   "cell_type": "markdown",
   "id": "97dadef0-3abc-4d2a-b6a5-e66577058217",
   "metadata": {},
   "source": [
    "### Helper Functions"
   ]
  },
  {
   "cell_type": "code",
   "execution_count": 3,
   "id": "e2248dd3-1ed9-4246-84e4-4f6fa02754ce",
   "metadata": {},
   "outputs": [],
   "source": [
    "# Function to plot confusion matrix\n",
    "def plotConfMatrix(actual, pred, labels):\n",
    "    conf_matrix = confusion_matrix(actual, pred)\n",
    "    labels = [\"Exclude\", \"Include\"]\n",
    "    df_cm = pd.DataFrame(conf_matrix, columns=labels, index=labels)\n",
    "    df_cm.index.name = 'Actual'\n",
    "    df_cm.columns.name = 'Predicted'\n",
    "    plt.figure(figsize = (4,2))\n",
    "    sns.set(font_scale=1.2)#for label size\n",
    "    sns.heatmap(df_cm, fmt='d', cmap=\"Blues\", annot=True, annot_kws={\"size\": 12})# font size\n",
    "    plt.show()\n",
    "    return\n",
    " \n",
    "# Function to calculate probabilities of each remaining article\n",
    "def calcProb(model, initial, remaining):\n",
    "    # Get initial training data and labels \n",
    "    initial_data = initial['scibert'].tolist()\n",
    "    initial_labels = initial['code'].tolist()\n",
    "\n",
    "    # Fit model to initial training data\n",
    "    model.fit(initial_data, initial_labels)\n",
    "\n",
    "    # Get remaining data for testing\n",
    "    remaining_data = remaining['scibert'].tolist()\n",
    "\n",
    "    # Predict probability [exclusion, inclusion] on remaining articles\n",
    "    pred = model.predict_proba(remaining_data)\n",
    "\n",
    "    # Calculate score (x[1] = probability of inclusion)\n",
    "    pred = list(map(lambda x: x[1], pred))\n",
    "    # Add probability to dataframe\n",
    "    remaining['prob'] = pred\n",
    "    # Sort by probability\n",
    "    remaining = remaining.sort_values(by=['prob'], ascending=False).reset_index(drop=True)\n",
    "    \n",
    "    return remaining\n",
    "\n",
    "# Calculate the total number of articles screened so far (train / train + test)\n",
    "def calcPercentScreened(initial, remaining):\n",
    "    return (initial.index[-1] + 1) / ((remaining.index[-1] + 1) + (initial.index[-1] + 1))\n",
    "\n",
    "# Calculate the number of articles needed to screen out of entire dataset to find all included articles\n",
    "# (train + last_index / train + test)\n",
    "def calcPercentNeedToScreen(initial, remaining, last_index):\n",
    "    return ((initial.index[-1] + 1) + (last_index + 1)) / ((initial.index[-1] + 1) + (remaining.index[-1] + 1))\n",
    "\n",
    "# Print stats (return false when all included articles found)\n",
    "def printStats(initial, remaining):\n",
    "    # Find index of last included article\n",
    "    include_indicies = remaining[remaining.code == 1].index\n",
    "    # Calculate total percentage of articles that need to be screened\n",
    "    if (len(include_indicies) == 0):\n",
    "        print(\"All included articles found after screening: %d (%.2f percent)\" % (len(initial), calcPercentScreened(initial, remaining) * 100))\n",
    "        return False\n",
    "    else:\n",
    "        print(\"Screened: %.2f (%d) Need to screen: %.2f (%d)\" % (\n",
    "            calcPercentScreened(initial, remaining) * 100,\n",
    "            len(initial),\n",
    "            calcPercentNeedToScreen(initial, remaining, include_indicies[-1]) * 100,\n",
    "            len(remaining)\n",
    "         ))\n",
    "        return True"
   ]
  },
  {
   "cell_type": "markdown",
   "id": "9468fdb7-7e33-4bcb-8675-395d2d6efc25",
   "metadata": {},
   "source": [
    "### Simulate Screening"
   ]
  },
  {
   "cell_type": "code",
   "execution_count": 23,
   "id": "d1aa8208-4f21-46b4-b913-5527b594a629",
   "metadata": {},
   "outputs": [],
   "source": [
    "def simulateScreening(df):\n",
    "    # Shuffle df\n",
    "    df = df.sample(frac=1).reset_index(drop=True)\n",
    "    \n",
    "    # Load model\n",
    "    model = LogisticRegression(C=0.05, class_weight='balanced', max_iter=1000)\n",
    "    all_data = df['scibert'].tolist()\n",
    "    all_labels = df['code'].tolist()\n",
    "\n",
    "    # Find first included article index\n",
    "    start = df[df.code == 1].index[0] + 1\n",
    "    print(\"Initial number screened:\", start)\n",
    "\n",
    "    # Split df by minimum size to screen\n",
    "    initial = df.iloc[:start,:].reset_index(drop=True)\n",
    "    remaining = df.iloc[start:,:].reset_index(drop=True)\n",
    "\n",
    "    while(remaining.index[-1] > 0):\n",
    "        remaining = calcProb(model, initial, remaining)\n",
    "        # printStats(initial, remaining)\n",
    "        include_indicies = remaining[remaining.code == 1].index\n",
    "        if(len(include_indicies) == 0):\n",
    "            # Have found all articles\n",
    "            break\n",
    "        # Take first remaining and append to initial (to account for extra screened article)\n",
    "        initial = pd.concat([initial, remaining.iloc[[0]]], ignore_index=True)\n",
    "        remaining.drop(0, inplace=True)\n",
    "        \n",
    "    # Return number screened and number remaining    \n",
    "    return len(initial), len(remaining)"
   ]
  },
  {
   "cell_type": "code",
   "execution_count": 24,
   "id": "aad7a76c-2aec-430c-a890-7cc708fcb520",
   "metadata": {},
   "outputs": [
    {
     "name": "stdout",
     "output_type": "stream",
     "text": [
      "uti\n",
      "10\n",
      "Initial number screened: 40\n"
     ]
    }
   ],
   "source": [
    "from IPython.display import clear_output\n",
    "\n",
    "# names = [\"cellulitis\", \"copper\", \"search\", \"uti\", \"overdiagnosis\"]\n",
    "names = [\"uti\"]\n",
    "\n",
    "for name in names:\n",
    "    stats = []\n",
    "    # df = pd.concat([pd.read_pickle(\"./uti/utiTrain.pkl\"), pd.read_pickle(\"./utiTest.pkl\")])\n",
    "    # use just training (screening) data\n",
    "    df = pd.read_pickle(\"./\" + name + \"/\" + name + \"Train.pkl\")\n",
    "    total = len(df)\n",
    "    # Simulate screening 10 times\n",
    "    for i in range(10):\n",
    "        clear_output(wait=True)\n",
    "        print(name)\n",
    "        print(i+1)\n",
    "        stats.append(simulateScreening(df))\n",
    "\n",
    "    stats_df = pd.DataFrame(stats, columns=[\"initial\", \"remaining\"])\n",
    "    stats_df[\"score\"] = stats_df[\"remaining\"] / total\n",
    "    stats_df.to_pickle(\"./stats-\" + name + \".pkl\")"
   ]
  }
 ],
 "metadata": {
  "kernelspec": {
   "display_name": "Python 3 (ipykernel)",
   "language": "python",
   "name": "python3"
  },
  "language_info": {
   "codemirror_mode": {
    "name": "ipython",
    "version": 3
   },
   "file_extension": ".py",
   "mimetype": "text/x-python",
   "name": "python",
   "nbconvert_exporter": "python",
   "pygments_lexer": "ipython3",
   "version": "3.9.7"
  }
 },
 "nbformat": 4,
 "nbformat_minor": 5
}
