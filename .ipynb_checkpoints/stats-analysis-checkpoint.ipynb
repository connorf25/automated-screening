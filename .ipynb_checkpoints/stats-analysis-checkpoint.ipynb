{
 "cells": [
  {
   "cell_type": "code",
   "execution_count": 1,
   "metadata": {},
   "outputs": [
    {
     "name": "stderr",
     "output_type": "stream",
     "text": [
      "C:\\Users\\Connor\\Anaconda3\\lib\\site-packages\\ipykernel_launcher.py:11: UserWarning: \n",
      "This call to matplotlib.use() has no effect because the backend has already\n",
      "been chosen; matplotlib.use() must be called *before* pylab, matplotlib.pyplot,\n",
      "or matplotlib.backends is imported for the first time.\n",
      "\n",
      "The backend was *originally* set to 'module://ipykernel.pylab.backend_inline' by the following code:\n",
      "  File \"C:\\Users\\Connor\\Anaconda3\\lib\\runpy.py\", line 193, in _run_module_as_main\n",
      "    \"__main__\", mod_spec)\n",
      "  File \"C:\\Users\\Connor\\Anaconda3\\lib\\runpy.py\", line 85, in _run_code\n",
      "    exec(code, run_globals)\n",
      "  File \"C:\\Users\\Connor\\Anaconda3\\lib\\site-packages\\ipykernel_launcher.py\", line 16, in <module>\n",
      "    app.launch_new_instance()\n",
      "  File \"C:\\Users\\Connor\\Anaconda3\\lib\\site-packages\\traitlets\\config\\application.py\", line 658, in launch_instance\n",
      "    app.start()\n",
      "  File \"C:\\Users\\Connor\\Anaconda3\\lib\\site-packages\\ipykernel\\kernelapp.py\", line 486, in start\n",
      "    self.io_loop.start()\n",
      "  File \"C:\\Users\\Connor\\Anaconda3\\lib\\site-packages\\tornado\\platform\\asyncio.py\", line 127, in start\n",
      "    self.asyncio_loop.run_forever()\n",
      "  File \"C:\\Users\\Connor\\Anaconda3\\lib\\asyncio\\base_events.py\", line 422, in run_forever\n",
      "    self._run_once()\n",
      "  File \"C:\\Users\\Connor\\Anaconda3\\lib\\asyncio\\base_events.py\", line 1432, in _run_once\n",
      "    handle._run()\n",
      "  File \"C:\\Users\\Connor\\Anaconda3\\lib\\asyncio\\events.py\", line 145, in _run\n",
      "    self._callback(*self._args)\n",
      "  File \"C:\\Users\\Connor\\Anaconda3\\lib\\site-packages\\tornado\\platform\\asyncio.py\", line 117, in _handle_events\n",
      "    handler_func(fileobj, events)\n",
      "  File \"C:\\Users\\Connor\\Anaconda3\\lib\\site-packages\\tornado\\stack_context.py\", line 276, in null_wrapper\n",
      "    return fn(*args, **kwargs)\n",
      "  File \"C:\\Users\\Connor\\Anaconda3\\lib\\site-packages\\zmq\\eventloop\\zmqstream.py\", line 450, in _handle_events\n",
      "    self._handle_recv()\n",
      "  File \"C:\\Users\\Connor\\Anaconda3\\lib\\site-packages\\zmq\\eventloop\\zmqstream.py\", line 480, in _handle_recv\n",
      "    self._run_callback(callback, msg)\n",
      "  File \"C:\\Users\\Connor\\Anaconda3\\lib\\site-packages\\zmq\\eventloop\\zmqstream.py\", line 432, in _run_callback\n",
      "    callback(*args, **kwargs)\n",
      "  File \"C:\\Users\\Connor\\Anaconda3\\lib\\site-packages\\tornado\\stack_context.py\", line 276, in null_wrapper\n",
      "    return fn(*args, **kwargs)\n",
      "  File \"C:\\Users\\Connor\\Anaconda3\\lib\\site-packages\\ipykernel\\kernelbase.py\", line 283, in dispatcher\n",
      "    return self.dispatch_shell(stream, msg)\n",
      "  File \"C:\\Users\\Connor\\Anaconda3\\lib\\site-packages\\ipykernel\\kernelbase.py\", line 233, in dispatch_shell\n",
      "    handler(stream, idents, msg)\n",
      "  File \"C:\\Users\\Connor\\Anaconda3\\lib\\site-packages\\ipykernel\\kernelbase.py\", line 399, in execute_request\n",
      "    user_expressions, allow_stdin)\n",
      "  File \"C:\\Users\\Connor\\Anaconda3\\lib\\site-packages\\ipykernel\\ipkernel.py\", line 208, in do_execute\n",
      "    res = shell.run_cell(code, store_history=store_history, silent=silent)\n",
      "  File \"C:\\Users\\Connor\\Anaconda3\\lib\\site-packages\\ipykernel\\zmqshell.py\", line 537, in run_cell\n",
      "    return super(ZMQInteractiveShell, self).run_cell(*args, **kwargs)\n",
      "  File \"C:\\Users\\Connor\\Anaconda3\\lib\\site-packages\\IPython\\core\\interactiveshell.py\", line 2662, in run_cell\n",
      "    raw_cell, store_history, silent, shell_futures)\n",
      "  File \"C:\\Users\\Connor\\Anaconda3\\lib\\site-packages\\IPython\\core\\interactiveshell.py\", line 2785, in _run_cell\n",
      "    interactivity=interactivity, compiler=compiler, result=result)\n",
      "  File \"C:\\Users\\Connor\\Anaconda3\\lib\\site-packages\\IPython\\core\\interactiveshell.py\", line 2903, in run_ast_nodes\n",
      "    if self.run_code(code, result):\n",
      "  File \"C:\\Users\\Connor\\Anaconda3\\lib\\site-packages\\IPython\\core\\interactiveshell.py\", line 2963, in run_code\n",
      "    exec(code_obj, self.user_global_ns, self.user_ns)\n",
      "  File \"<ipython-input-1-7a74fff202ab>\", line 2, in <module>\n",
      "    import seaborn as sns\n",
      "  File \"C:\\Users\\Connor\\Anaconda3\\lib\\site-packages\\seaborn\\__init__.py\", line 2, in <module>\n",
      "    from .rcmod import *  # noqa: F401,F403\n",
      "  File \"C:\\Users\\Connor\\Anaconda3\\lib\\site-packages\\seaborn\\rcmod.py\", line 7, in <module>\n",
      "    from . import palettes\n",
      "  File \"C:\\Users\\Connor\\Anaconda3\\lib\\site-packages\\seaborn\\palettes.py\", line 9, in <module>\n",
      "    from .utils import desaturate, get_color_cycle\n",
      "  File \"C:\\Users\\Connor\\Anaconda3\\lib\\site-packages\\seaborn\\utils.py\", line 14, in <module>\n",
      "    import matplotlib.pyplot as plt\n",
      "  File \"C:\\Users\\Connor\\Anaconda3\\lib\\site-packages\\matplotlib\\pyplot.py\", line 71, in <module>\n",
      "    from matplotlib.backends import pylab_setup\n",
      "  File \"C:\\Users\\Connor\\Anaconda3\\lib\\site-packages\\matplotlib\\backends\\__init__.py\", line 16, in <module>\n",
      "    line for line in traceback.format_stack()\n",
      "\n",
      "\n",
      "  # This is added back by InteractiveShellApp.init_path()\n"
     ]
    }
   ],
   "source": [
    "import pandas as pd\n",
    "import seaborn as sns\n",
    "import matplotlib\n",
    "import matplotlib.pyplot as plt\n",
    "from ast import literal_eval\n",
    "from itertools import zip_longest\n",
    "import numpy as np\n",
    "from tabulate import tabulate\n",
    "\n",
    "# For latex graphs\n",
    "matplotlib.use(\"pgf\")\n",
    "matplotlib.rcParams.update({\n",
    "    \"pgf.texsystem\": \"pdflatex\",\n",
    "    'font.family': 'serif',\n",
    "    'text.usetex': True,\n",
    "    'pgf.rcfonts': False,\n",
    "})\n",
    "\n",
    "def plot_all_both(method):\n",
    "    fig, axs = plt.subplots(2)\n",
    "    fig.set_size_inches(w=5.39749, h=6)\n",
    "    names = [\"cellulitis\", \"copper\", \"search\", \"uti\", \"overdiagnosis\"]\n",
    "    for name in names:\n",
    "        effort_accuracy_plot(name, method, True, axs[0])\n",
    "        effort_accuracy_plot(name, method, False, axs[1])\n",
    "    plt.xticks(np.arange(0, 1.1, 0.1))\n",
    "    plt.yticks(np.arange(0.2, 1.1, 0.1))\n",
    "    plt.legend()\n",
    "    # plt.show()\n",
    "\n",
    "def plot_all(method, show_all=True):\n",
    "    fig = plt.figure()\n",
    "    fig.set_size_inches(w=5.39749, h=3)\n",
    "    names = [\"cellulitis\", \"copper\", \"search\", \"uti\", \"overdiagnosis\"]\n",
    "    sns.set(style=\"whitegrid\")\n",
    "    for name in names:\n",
    "        effort_accuracy_plot(name, method, show_all)\n",
    "    plt.xticks(np.arange(0, 1.1, 0.1))\n",
    "    plt.yticks(np.arange(0.2, 1.1, 0.1))\n",
    "    plt.legend()\n",
    "    # plt.show()\n",
    "    \n",
    "# Get the accuracy at a threshold effort\n",
    "def get_accuracy(name, method, effort):\n",
    "    stats_df = pd.read_csv(\"stats-\" + name + \"-\" + method + \".csv\")\n",
    "    # Convert csv lists to actual lists\n",
    "    stats_df.effort = stats_df.effort.apply(literal_eval)\n",
    "    stats_df.accuracy = stats_df.accuracy.apply(literal_eval)\n",
    "\n",
    "    # Find longest effort array\n",
    "    avg_effort = max(stats_df.effort, key=len)\n",
    "    # Average all accuracy data points over the 10 iterations\n",
    "    avg_accuracy = np.nanmean(np.array(list(zip_longest(*stats_df.accuracy, fillvalue=1)),dtype=float), axis=1)\n",
    "    \n",
    "    # Find lowest index where accuracy exceeds or equals the accuracy\n",
    "    index = np.argmax(avg_effort>=effort)\n",
    "    return avg_accuracy[index]\n",
    "\n",
    "def get_effort(name, method, accuracy):\n",
    "    stats_df = pd.read_csv(\"stats-\" + name + \"-\" + method + \".csv\")\n",
    "    # Convert csv lists to actual lists\n",
    "    stats_df.effort = stats_df.effort.apply(literal_eval)\n",
    "    stats_df.accuracy = stats_df.accuracy.apply(literal_eval)\n",
    "\n",
    "    # Find longest effort array\n",
    "    effort = max(stats_df.effort, key=len)\n",
    "    # Average all accuracy data points over the 10 iterations\n",
    "    avg_accuracy = np.nanmean(np.array(list(zip_longest(*stats_df.accuracy, fillvalue=1)),dtype=float), axis=1)\n",
    "    \n",
    "    # Find lowest index where accuracy exceeds or equals the accuracy\n",
    "    index = np.argmax(avg_accuracy>=accuracy)\n",
    "    return effort[index]\n",
    "    \n",
    "def print_table(method):\n",
    "    table = []\n",
    "    accuracies = [0.5, 0.75, 0.9, 1.0]\n",
    "    names = [\"cellulitis\", \"copper\", \"search\", \"uti\", \"overdiagnosis\"]\n",
    "    for name in names:\n",
    "        row = [name]\n",
    "        for accuracy in accuracies:\n",
    "            row.append(get_effort(name, method, accuracy))\n",
    "        table.append(row)\n",
    "    print(tabulate(table, tablefmt='latex', floatfmt=\".2f\"))\n",
    "    \n",
    "def plot_table():\n",
    "    table = []\n",
    "    accuracies = [0.5, 0.75, 0.9, 1.0]\n",
    "    names = [\"cellulitis\", \"copper\", \"search\", \"uti\", \"overdiagnosis\"]\n",
    "    for name in names:\n",
    "        for accuracy in accuracies:\n",
    "            table.append([name, accuracy, get_effort(name, accuracy)])\n",
    "    df = pd.DataFrame(table, columns=[\"name\", \"accuracy\", \"effort\"])\n",
    "    sns.set(style=\"whitegrid\", rc={'figure.figsize':(5.39749, 3)})\n",
    "    sns.barplot(x=\"accuracy\", y=\"effort\", hue=\"name\", data=df)\n",
    "    plt.xlabel(\"accuracy threshold\")\n",
    "\n",
    "def effort_accuracy_plot(name, method, show_all=True, plot=plt):\n",
    "    stats_df = pd.read_csv(\"stats-\" + name + \"-\" + method + \".csv\")\n",
    "    # Convert csv lists to actual lists\n",
    "    stats_df.effort = stats_df.effort.apply(literal_eval)\n",
    "    stats_df.accuracy = stats_df.accuracy.apply(literal_eval)\n",
    "\n",
    "    # Find longest effort array\n",
    "    effort = max(stats_df.effort, key=len)\n",
    "    # Average all accuracy data points over the 10 iterations\n",
    "    avg_accuracy = np.nanmean(np.array(list(zip_longest(*stats_df.accuracy, fillvalue=1)),dtype=float), axis=1).tolist()\n",
    "\n",
    "    # Add values to show all\n",
    "    if (show_all):\n",
    "        effort.append(1)\n",
    "        avg_accuracy.append(max(avg_accuracy))\n",
    "\n",
    "\n",
    "    # Make plot look nice\n",
    "    plt.xlabel(\"effort\")\n",
    "    plt.ylabel(\"accuracy\")\n",
    "    plot.plot(effort, avg_accuracy, label=name, linewidth=2)"
   ]
  },
  {
   "cell_type": "code",
   "execution_count": 3,
   "metadata": {},
   "outputs": [
    {
     "data": {
      "image/png": "[encoded data removed]",
      "text/plain": [
       "<Figure size 388.619x216 with 1 Axes>"
      ]
     },
     "metadata": {},
     "output_type": "display_data"
    }
   ],
   "source": [
    "plot_all(\"simple\", True)\n",
    "# plt.savefig('../honours/advanced-topics-c/assets/all_plot.pgf')"
   ]
  },
  {
   "cell_type": "code",
   "execution_count": 2,
   "metadata": {},
   "outputs": [
    {
     "data": {
      "image/png": "[encoded data removed]",
      "text/plain": [
       "<Figure size 388.619x216 with 1 Axes>"
      ]
     },
     "metadata": {},
     "output_type": "display_data"
    }
   ],
   "source": [
    "method = \"scibert-average\"\n",
    "\n",
    "plot_all(method, False)\n",
    "plt.tight_layout()\n",
    "plt.savefig('../honours/thesis/Figures/effort-accuracy-' + method + '.pgf')"
   ]
  },
  {
   "cell_type": "code",
   "execution_count": 6,
   "metadata": {},
   "outputs": [
    {
     "name": "stderr",
     "output_type": "stream",
     "text": [
      "/var/folders/8q/byh6pjkx74d7p_crfrzgdpbd2xgt0t/T/ipykernel_43252/2273053263.py:3: UserWarning: Matplotlib is currently using pgf, which is a non-GUI backend, so cannot show the figure.\n",
      "  plt.show()\n"
     ]
    }
   ],
   "source": [
    "plot_all_both(\"simple\")\n",
    "# plt.savefig('../honours/advanced-topics-c/assets/all_plot_both.pgf')\n",
    "plt.show()"
   ]
  },
  {
   "cell_type": "code",
   "execution_count": 6,
   "metadata": {},
   "outputs": [
    {
     "name": "stdout",
     "output_type": "stream",
     "text": [
      "\\begin{tabular}{lrrrr}\n",
      "\\hline\n",
      " cellulitis    & 0.07 & 0.21 & 0.29 & 0.40 \\\\\n",
      " copper        & 0.03 & 0.04 & 0.06 & 0.08 \\\\\n",
      " search        & 0.02 & 0.04 & 0.06 & 0.08 \\\\\n",
      " uti           & 0.03 & 0.06 & 0.09 & 0.22 \\\\\n",
      " overdiagnosis & 0.14 & 0.29 & 0.42 & 0.54 \\\\\n",
      "\\hline\n",
      "\\end{tabular}\n"
     ]
    }
   ],
   "source": [
    "print_table(\"simple\")"
   ]
  },
  {
   "cell_type": "code",
   "execution_count": 2,
   "metadata": {},
   "outputs": [],
   "source": [
    "plot_table()\n",
    "plt.tight_layout()\n",
    "# plt.savefig('../honours/advanced-topics-c/assets/table_plot.pgf')"
   ]
  },
  {
   "cell_type": "code",
   "execution_count": null,
   "metadata": {},
   "outputs": [],
   "source": [
    "effort_accuracy_plot(\"cellulitis\")"
   ]
  },
  {
   "cell_type": "code",
   "execution_count": null,
   "metadata": {},
   "outputs": [],
   "source": [
    "effort_accuracy_plot(\"copper\")"
   ]
  },
  {
   "cell_type": "code",
   "execution_count": null,
   "metadata": {},
   "outputs": [],
   "source": [
    "effort_accuracy_plot(\"overdiagnosis\")"
   ]
  },
  {
   "cell_type": "code",
   "execution_count": null,
   "metadata": {},
   "outputs": [],
   "source": [
    "effort_accuracy_plot(\"search\")"
   ]
  },
  {
   "cell_type": "code",
   "execution_count": null,
   "metadata": {},
   "outputs": [],
   "source": [
    "effort_accuracy_plot(\"uti\")"
   ]
  }
 ],
 "metadata": {
  "kernelspec": {
   "display_name": "Python 3",
   "language": "python",
   "name": "python3"
  },
  "language_info": {
   "codemirror_mode": {
    "name": "ipython",
    "version": 3
   },
   "file_extension": ".py",
   "mimetype": "text/x-python",
   "name": "python",
   "nbconvert_exporter": "python",
   "pygments_lexer": "ipython3",
   "version": "3.6.5"
  }
 },
 "nbformat": 4,
 "nbformat_minor": 5
}
