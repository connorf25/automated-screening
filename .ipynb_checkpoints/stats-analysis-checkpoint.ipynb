{
 "cells": [
  {
   "cell_type": "code",
   "execution_count": 1,
   "metadata": {},
   "outputs": [],
   "source": [
    "import pandas as pd\n",
    "import seaborn as sns\n",
    "import matplotlib\n",
    "import matplotlib.pyplot as plt\n",
    "from ast import literal_eval\n",
    "from itertools import zip_longest\n",
    "import numpy as np\n",
    "from tabulate import tabulate\n",
    "\n",
    "# For latex graphs\n",
    "matplotlib.use(\"pgf\")\n",
    "matplotlib.rcParams.update({\n",
    "    \"pgf.texsystem\": \"pdflatex\",\n",
    "    'font.family': 'serif',\n",
    "    'text.usetex': True,\n",
    "    'pgf.rcfonts': False,\n",
    "})\n",
    "\n",
    "def plot_all_both():\n",
    "    fig, axs = plt.subplots(2)\n",
    "    fig.set_size_inches(w=5.39749, h=6)\n",
    "    names = [\"cellulitis\", \"copper\", \"search\", \"uti\", \"overdiagnosis\"]\n",
    "    for name in names:\n",
    "        effort_accuracy_plot(name, True, axs[0])\n",
    "        effort_accuracy_plot(name, False, axs[1])\n",
    "    plt.xticks(np.arange(0, 1.1, 0.1))\n",
    "    plt.yticks(np.arange(0.2, 1.1, 0.1))\n",
    "    plt.legend()\n",
    "    # plt.show()\n",
    "\n",
    "def plot_all(show_all=True):\n",
    "    fig = plt.figure()\n",
    "    fig.set_size_inches(w=5.39749, h=3)\n",
    "    names = [\"cellulitis\", \"copper\", \"search\", \"uti\", \"overdiagnosis\"]\n",
    "    sns.set(style=\"whitegrid\")\n",
    "    for name in names:\n",
    "        effort_accuracy_plot(name, show_all)\n",
    "    plt.xticks(np.arange(0, 1.1, 0.1))\n",
    "    plt.yticks(np.arange(0.2, 1.1, 0.1))\n",
    "    plt.legend()\n",
    "    # plt.show()\n",
    "    \n",
    "# Get the accuracy at a threshold effort\n",
    "def get_accuracy(name, effort):\n",
    "    stats_df = pd.read_csv(\"stats-\" + name + \"-\" + method + \".csv\")\n",
    "    # Convert csv lists to actual lists\n",
    "    stats_df.effort = stats_df.effort.apply(literal_eval)\n",
    "    stats_df.accuracy = stats_df.accuracy.apply(literal_eval)\n",
    "\n",
    "    # Find longest effort array\n",
    "    avg_effort = max(stats_df.effort, key=len)\n",
    "    # Average all accuracy data points over the 10 iterations\n",
    "    avg_accuracy = np.nanmean(np.array(list(zip_longest(*stats_df.accuracy, fillvalue=1)),dtype=float), axis=1)\n",
    "    \n",
    "    # Find lowest index where accuracy exceeds or equals the accuracy\n",
    "    index = np.argmax(avg_effort>=effort)\n",
    "    return avg_accuracy[index]\n",
    "\n",
    "def get_effort(name, accuracy):\n",
    "    stats_df = pd.read_csv(\"stats-\" + name + \"-\" + method + \".csv\")\n",
    "    # Convert csv lists to actual lists\n",
    "    stats_df.effort = stats_df.effort.apply(literal_eval)\n",
    "    stats_df.accuracy = stats_df.accuracy.apply(literal_eval)\n",
    "\n",
    "    # Find longest effort array\n",
    "    effort = max(stats_df.effort, key=len)\n",
    "    # Average all accuracy data points over the 10 iterations\n",
    "    avg_accuracy = np.nanmean(np.array(list(zip_longest(*stats_df.accuracy, fillvalue=1)),dtype=float), axis=1)\n",
    "    \n",
    "    # Find lowest index where accuracy exceeds or equals the accuracy\n",
    "    index = np.argmax(avg_accuracy>=accuracy)\n",
    "    return effort[index]\n",
    "    \n",
    "def print_table():\n",
    "    table = []\n",
    "    accuracies = [0.5, 0.75, 0.9, 1.0]\n",
    "    names = [\"cellulitis\", \"copper\", \"search\", \"uti\", \"overdiagnosis\"]\n",
    "    for name in names:\n",
    "        row = [name]\n",
    "        for accuracy in accuracies:\n",
    "            row.append(get_effort(name, accuracy))\n",
    "        table.append(row)\n",
    "    print(tabulate(table, tablefmt='latex', floatfmt=\".2f\"))\n",
    "    \n",
    "def plot_table():\n",
    "    table = []\n",
    "    accuracies = [0.5, 0.75, 0.9, 1.0]\n",
    "    names = [\"cellulitis\", \"copper\", \"search\", \"uti\", \"overdiagnosis\"]\n",
    "    for name in names:\n",
    "        for accuracy in accuracies:\n",
    "            table.append([name, accuracy, get_effort(name, accuracy)])\n",
    "    df = pd.DataFrame(table, columns=[\"name\", \"accuracy\", \"effort\"])\n",
    "    sns.set(style=\"whitegrid\", rc={'figure.figsize':(5.39749, 3)})\n",
    "    sns.barplot(x=\"accuracy\", y=\"effort\", hue=\"name\", data=df)\n",
    "    plt.xlabel(\"accuracy threshold\")\n",
    "\n",
    "def effort_accuracy_plot(name, show_all=True, plot=plt):\n",
    "    stats_df = pd.read_csv(\"stats-\" + name + \".csv\")\n",
    "    # Convert csv lists to actual lists\n",
    "    stats_df.effort = stats_df.effort.apply(literal_eval)\n",
    "    stats_df.accuracy = stats_df.accuracy.apply(literal_eval)\n",
    "\n",
    "    # Find longest effort array\n",
    "    effort = max(stats_df.effort, key=len)\n",
    "    # Average all accuracy data points over the 10 iterations\n",
    "    avg_accuracy = np.nanmean(np.array(list(zip_longest(*stats_df.accuracy, fillvalue=1)),dtype=float), axis=1).tolist()\n",
    "\n",
    "    # Add values to show all\n",
    "    if (show_all):\n",
    "        effort.append(1)\n",
    "        avg_accuracy.append(max(avg_accuracy))\n",
    "\n",
    "\n",
    "    # Make plot look nice\n",
    "    plt.xlabel(\"effort\")\n",
    "    plt.ylabel(\"accuracy\")\n",
    "    plot.plot(effort, avg_accuracy, label=name, linewidth=2)"
   ]
  },
  {
   "cell_type": "code",
   "execution_count": null,
   "metadata": {},
   "outputs": [],
   "source": [
    "plot_all(True)\n",
    "plt.savefig('../honours/advanced-topics-c/assets/all_plot.pgf')"
   ]
  },
  {
   "cell_type": "code",
   "execution_count": 9,
   "metadata": {},
   "outputs": [],
   "source": [
    "plot_all(False)\n",
    "plt.tight_layout()\n",
    "plt.savefig('../honours/advanced-topics-c/assets/all_plot.pgf')"
   ]
  },
  {
   "cell_type": "code",
   "execution_count": null,
   "metadata": {},
   "outputs": [],
   "source": [
    "plot_all_both()\n",
    "plt.savefig('../honours/advanced-topics-c/assets/all_plot_both.pgf')"
   ]
  },
  {
   "cell_type": "code",
   "execution_count": null,
   "metadata": {},
   "outputs": [],
   "source": [
    "print_table()"
   ]
  },
  {
   "cell_type": "code",
   "execution_count": 2,
   "metadata": {},
   "outputs": [],
   "source": [
    "plot_table()\n",
    "plt.tight_layout()\n",
    "plt.savefig('../honours/advanced-topics-c/assets/table_plot.pgf')"
   ]
  },
  {
   "cell_type": "code",
   "execution_count": null,
   "metadata": {},
   "outputs": [],
   "source": [
    "effort_accuracy_plot(\"cellulitis\")"
   ]
  },
  {
   "cell_type": "code",
   "execution_count": null,
   "metadata": {},
   "outputs": [],
   "source": [
    "effort_accuracy_plot(\"copper\")"
   ]
  },
  {
   "cell_type": "code",
   "execution_count": null,
   "metadata": {},
   "outputs": [],
   "source": [
    "effort_accuracy_plot(\"overdiagnosis\")"
   ]
  },
  {
   "cell_type": "code",
   "execution_count": null,
   "metadata": {},
   "outputs": [],
   "source": [
    "effort_accuracy_plot(\"search\")"
   ]
  },
  {
   "cell_type": "code",
   "execution_count": null,
   "metadata": {},
   "outputs": [],
   "source": [
    "effort_accuracy_plot(\"uti\")"
   ]
  }
 ],
 "metadata": {
  "kernelspec": {
   "display_name": "Python 3",
   "language": "python",
   "name": "python3"
  },
  "language_info": {
   "codemirror_mode": {
    "name": "ipython",
    "version": 3
   },
   "file_extension": ".py",
   "mimetype": "text/x-python",
   "name": "python",
   "nbconvert_exporter": "python",
   "pygments_lexer": "ipython3",
   "version": "3.6.5"
  }
 },
 "nbformat": 4,
 "nbformat_minor": 5
}
