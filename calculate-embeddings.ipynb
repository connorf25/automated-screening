{
 "cells": [
  {
   "cell_type": "code",
   "execution_count": null,
   "id": "4a0df04f-1cfd-4d43-bc48-1127bdb1c731",
   "metadata": {},
   "outputs": [],
   "source": [
    "!pip install transformers\n",
    "!pip install torch torchvision torchaudio"
   ]
  },
  {
   "cell_type": "code",
   "execution_count": 2,
   "id": "bb3ef3e1-5a9a-4814-8a22-416bb63ce409",
   "metadata": {},
   "outputs": [
    {
     "name": "stderr",
     "output_type": "stream",
     "text": [
      "/home/connorforbes/.local/lib/python3.9/site-packages/tqdm/auto.py:22: TqdmWarning: IProgress not found. Please update jupyter and ipywidgets. See https://ipywidgets.readthedocs.io/en/stable/user_install.html\n",
      "  from .autonotebook import tqdm as notebook_tqdm\n"
     ]
    }
   ],
   "source": [
    "# Imports\n",
    "import pandas as pd\n",
    "import matplotlib.pyplot as plt\n",
    "import numpy as np\n",
    "from xml.dom import minidom\n",
    "\n",
    "from transformers import BertModel, BertTokenizer\n",
    "import torch\n",
    "import numpy as np\n",
    "\n",
    "#Timing\n",
    "from IPython.display import clear_output\n",
    "import timeit"
   ]
  },
  {
   "cell_type": "code",
   "execution_count": 3,
   "id": "4bb1f93a-b32a-464c-a0f3-cab90bf89a8d",
   "metadata": {},
   "outputs": [],
   "source": [
    "#Function to parse xml\n",
    "def parseXML(filename, isInclude):\n",
    "    abstracts = []\n",
    "    tags = []\n",
    "    xmldoc = minidom.parse(filename)\n",
    "    itemlist = xmldoc.getElementsByTagName('abstract')\n",
    "    for node in xmldoc.getElementsByTagName('abstract'):\n",
    "        abstract = node.getElementsByTagName('style')[0].firstChild.nodeValue\n",
    "        abstracts.append(abstract)\n",
    "        tags.append(isInclude)  \n",
    "    return abstracts, tags"
   ]
  },
  {
   "cell_type": "code",
   "execution_count": 4,
   "id": "530cd6f9-bcf7-4cd4-89d8-f5a2e6f66219",
   "metadata": {},
   "outputs": [],
   "source": [
    "# Function to get document embedding\n",
    "def get_embedding(model, tokenizer, text):\n",
    "\n",
    "    # Encode with special tokens ([CLS] and [SEP], returning pytorch tensors\n",
    "    encoded_dict = tokenizer.encode_plus(\n",
    "                        text,\n",
    "                        truncation=True,\n",
    "                        max_length=512,\n",
    "                        add_special_tokens = True,\n",
    "                        return_tensors = 'pt'\n",
    "                )\n",
    "    input_ids = encoded_dict['input_ids']  \n",
    "    # Set model to evaluation mode\n",
    "    model.eval()   \n",
    "    \n",
    "    # Run through BERT\n",
    "    with torch.no_grad():\n",
    "        outputs = model(input_ids)\n",
    "        # Extract hidden states\n",
    "        hidden_states = outputs[2]\n",
    "\n",
    "    # Select the embeddings\n",
    "    token_vecs = hidden_states[-2][0]\n",
    "    # Calculate average of token vectors\n",
    "    sentence_embedding = torch.mean(token_vecs, dim=0)\n",
    "    # Convert to np array\n",
    "    sentence_embedding = sentence_embedding.detach().numpy()\n",
    "\n",
    "    return sentence_embedding"
   ]
  },
  {
   "cell_type": "code",
   "execution_count": 5,
   "id": "12013c50-f8e6-455a-a649-874144c94de8",
   "metadata": {},
   "outputs": [
    {
     "name": "stderr",
     "output_type": "stream",
     "text": [
      "Some weights of the model checkpoint at allenai/scibert_scivocab_uncased were not used when initializing BertModel: ['cls.predictions.decoder.weight', 'cls.seq_relationship.bias', 'cls.predictions.bias', 'cls.predictions.transform.LayerNorm.bias', 'cls.predictions.transform.dense.weight', 'cls.predictions.decoder.bias', 'cls.seq_relationship.weight', 'cls.predictions.transform.LayerNorm.weight', 'cls.predictions.transform.dense.bias']\n",
      "- This IS expected if you are initializing BertModel from the checkpoint of a model trained on another task or with another architecture (e.g. initializing a BertForSequenceClassification model from a BertForPreTraining model).\n",
      "- This IS NOT expected if you are initializing BertModel from the checkpoint of a model that you expect to be exactly identical (initializing a BertForSequenceClassification model from a BertForSequenceClassification model).\n"
     ]
    },
    {
     "name": "stdout",
     "output_type": "stream",
     "text": [
      "scibert_tokenizer is type: <class 'transformers.models.bert.tokenization_bert.BertTokenizer'>\n",
      "    scibert_model is type: <class 'transformers.models.bert.modeling_bert.BertModel'>\n"
     ]
    }
   ],
   "source": [
    "# Load scibert\n",
    "scibert_model = BertModel.from_pretrained(\"allenai/scibert_scivocab_uncased\",\n",
    "                                  output_hidden_states=True)\n",
    "scibert_tokenizer = BertTokenizer.from_pretrained(\"allenai/scibert_scivocab_uncased\")\n",
    "\n",
    "print('scibert_tokenizer is type:', type(scibert_tokenizer))\n",
    "print('    scibert_model is type:', type(scibert_model))\n",
    "\n",
    "\n",
    "def calculate_embeddings(name):\n",
    "    # Parse XML\n",
    "    abstractsInclude, tagsInclude = parseXML(name + '/' + name + 'Include.xml', 1)\n",
    "    abstractsExclude, tagsExclude = parseXML(name + '/' + name + 'Exclude.xml', 0)\n",
    "    df = pd.DataFrame(list(zip(tagsInclude + tagsExclude, abstractsInclude + abstractsExclude)), columns =['code', 'abstract'])\n",
    "\n",
    "    embeddings = []\n",
    "    length = len(df['abstract'].tolist())\n",
    "    index = 0\n",
    "\n",
    "    start = timeit.default_timer()\n",
    "    for sentence in df['abstract'].tolist():\n",
    "        clear_output(wait=True)\n",
    "        index += 1\n",
    "        sen_emb = get_embedding(scibert_model, scibert_tokenizer, sentence)\n",
    "        embeddings.append(sen_emb)\n",
    "\n",
    "        stop = timeit.default_timer()\n",
    "\n",
    "        if (index/length*100) < 1:\n",
    "            expected_time = \"Calculating...\"\n",
    "\n",
    "        else:\n",
    "            time_perc = timeit.default_timer()\n",
    "            expected_time = np.round( (time_perc-start) /(index/length) /60,2)\n",
    "\n",
    "        print(index, length)\n",
    "        print(expected_time)\n",
    "\n",
    "\n",
    "    # Append to dataframe\n",
    "    df['scibert'] = embeddings\n",
    "    # Save dataframe to prevent recalculation\n",
    "    df.to_pickle(\"./\" + name + \"/\" + name + \"Train.pkl\")"
   ]
  },
  {
   "cell_type": "code",
   "execution_count": 12,
   "id": "a932882c-813d-4a53-8306-1b6f658295c8",
   "metadata": {},
   "outputs": [
    {
     "name": "stdout",
     "output_type": "stream",
     "text": [
      "602 602\n",
      "2.98\n"
     ]
    }
   ],
   "source": [
    "calculate_embeddings(\"cellulitis\")"
   ]
  },
  {
   "cell_type": "code",
   "execution_count": 13,
   "id": "648e43f6-91c0-4934-a2ab-537bcbfac0dd",
   "metadata": {},
   "outputs": [
    {
     "name": "stdout",
     "output_type": "stream",
     "text": [
      "1972 1972\n",
      "9.36\n"
     ]
    }
   ],
   "source": [
    "calculate_embeddings(\"overdiagnosis\")"
   ]
  },
  {
   "cell_type": "code",
   "execution_count": 6,
   "id": "30ff9d33-0c75-4da8-9700-cd9ab89c9860",
   "metadata": {},
   "outputs": [
    {
     "name": "stdout",
     "output_type": "stream",
     "text": [
      "348 348\n",
      "1.62\n"
     ]
    }
   ],
   "source": [
    "calculate_embeddings(\"copper\")"
   ]
  }
 ],
 "metadata": {
  "kernelspec": {
   "display_name": "Python 3 (ipykernel)",
   "language": "python",
   "name": "python3"
  },
  "language_info": {
   "codemirror_mode": {
    "name": "ipython",
    "version": 3
   },
   "file_extension": ".py",
   "mimetype": "text/x-python",
   "name": "python",
   "nbconvert_exporter": "python",
   "pygments_lexer": "ipython3",
   "version": "3.9.7"
  }
 },
 "nbformat": 4,
 "nbformat_minor": 5
}
